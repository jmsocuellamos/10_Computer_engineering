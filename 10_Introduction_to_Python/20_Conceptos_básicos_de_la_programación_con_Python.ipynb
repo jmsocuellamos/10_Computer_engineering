{
  "nbformat": 4,
  "nbformat_minor": 0,
  "metadata": {
    "kernelspec": {
      "name": "python3",
      "display_name": "Python 3"
    },
    "colab": {
      "provenance": [],
      "toc_visible": true
    }
  },
  "cells": [
    {
      "cell_type": "markdown",
      "source": [
        "# <font color=\"steelblue\">Conceptos básicos de la programación con Python</font>\n",
        "\n",
        "**Material desarrollado por los [equipos de trabajo de IA4LEGOS](https://ia4legos.umh.es/)**\n",
        "\n",
        "\n",
        "**Fecha última edición**: 10/05/2025\n",
        "\n",
        "**Licencia**: <small><a rel=\"license\" href=\"http://creativecommons.org/licenses/by-sa/4.0/\"><img alt=\"Creative Commons License\" style=\"border-width:0\" src=\"https://i.creativecommons.org/l/by-sa/4.0/88x31.png\" /></a><br /></small>\n",
        "\n",
        "No olvides hacer una copia si deseas utilizarlo. Al usar estos contenidos, aceptas nuestros términos de uso y nuestra política de privacidad."
      ],
      "metadata": {
        "id": "Cj6evaVoLSHN"
      }
    },
    {
      "cell_type": "markdown",
      "metadata": {
        "id": "LwFrA3JK2f03"
      },
      "source": [
        "# Comenzamos\n",
        "\n",
        "Para una revisión de todos los elementos básicos en la programación con Python es muy recomendable el tutorial de [w3schools.com](https://www.w3schools.com/python/default.asp)."
      ]
    },
    {
      "cell_type": "markdown",
      "source": [
        "Empezamos con la frase habitual en cualquier lenguaje de programación utilizando la función `print` con una cadena de texto identificada por `\" \"`."
      ],
      "metadata": {
        "id": "Tg1_nOX8MNNC"
      }
    },
    {
      "cell_type": "code",
      "metadata": {
        "id": "fhqSGa1G_pkL",
        "colab": {
          "base_uri": "https://localhost:8080/"
        },
        "outputId": "680895f8-bed8-4943-e2e7-1fc14f5cc311"
      },
      "source": [
        "print(\"Comenzamos saludando. \\n ¡Hola MUNDO!\")  # \\n es salto de línea"
      ],
      "execution_count": null,
      "outputs": [
        {
          "output_type": "stream",
          "name": "stdout",
          "text": [
            "Comenzamos saludando. \n",
            " ¡Hola MUNDO!\n"
          ]
        }
      ]
    },
    {
      "cell_type": "markdown",
      "source": [
        "Una frase más larga"
      ],
      "metadata": {
        "id": "Pv36vRWbMdzy"
      }
    },
    {
      "cell_type": "code",
      "metadata": {
        "colab": {
          "base_uri": "https://localhost:8080/"
        },
        "id": "AOkIVpoOIyO2",
        "outputId": "30327a6e-5111-4a66-c113-f9e39f1cc5a6"
      },
      "source": [
        "print(''' y cuando queremos mostrar un texto largo expandido en varias líneas,\n",
        "lo escribimos de esa forma en el código, y utilizamos\n",
        "tres comillas para entrecomillarlo''' )"
      ],
      "execution_count": null,
      "outputs": [
        {
          "output_type": "stream",
          "name": "stdout",
          "text": [
            " y cuando queremos mostrar un texto largo expandido en varias líneas,\n",
            "lo escribimos de esa forma en el código, y utilizamos\n",
            "tres comillas para entrecomillarlo\n"
          ]
        }
      ]
    },
    {
      "cell_type": "markdown",
      "metadata": {
        "id": "WVvxFFA22kD-"
      },
      "source": [
        "## Tipos de datos\n",
        "Con la función `type()` podemos saber el tipo de cualquier dato en Python. Estas son las categorías básicas de datos:\n",
        "\n",
        "* Texto:\tstr\n",
        "* Numérico:\tint, float, complex\n",
        "* Secuencia:\tlist, tuple, range\n",
        "* Mapeo:\tdict\n",
        "* Conjunto:\tset, frozenset\n",
        "* Booleano:\tbool\n",
        "* Binario:\tbytes, bytearray, memoryview"
      ]
    },
    {
      "cell_type": "code",
      "metadata": {
        "id": "wgLt0tcO8VIf",
        "colab": {
          "base_uri": "https://localhost:8080/"
        },
        "outputId": "6febd5be-25e3-45a8-bfe9-642dc97abc33"
      },
      "source": [
        "a = \"Esto es una cadena de caracteres\"\n",
        "print(a)"
      ],
      "execution_count": null,
      "outputs": [
        {
          "output_type": "stream",
          "name": "stdout",
          "text": [
            "Esto es una cadena de caracteres\n"
          ]
        }
      ]
    },
    {
      "cell_type": "markdown",
      "source": [
        "Definimos varios elementos y vemos su impresión"
      ],
      "metadata": {
        "id": "LCiRvgUKNRxl"
      }
    },
    {
      "cell_type": "code",
      "metadata": {
        "id": "UaalR9vU7l4D",
        "colab": {
          "base_uri": "https://localhost:8080/"
        },
        "outputId": "e53e7490-da61-48e0-d9ff-72b4ed7f564c"
      },
      "source": [
        "# Los tipos numéricos son enteros, reales y complejos\n",
        "a = 3\n",
        "b = int(3)\n",
        "c = float(3)\n",
        "d = complex(3)\n",
        "e = 1.-3.j\n",
        "a, b, c, d, e"
      ],
      "execution_count": null,
      "outputs": [
        {
          "output_type": "execute_result",
          "data": {
            "text/plain": [
              "(3, 3, 3.0, (3+0j), (1-3j))"
            ]
          },
          "metadata": {},
          "execution_count": 4
        }
      ]
    },
    {
      "cell_type": "code",
      "metadata": {
        "id": "Kn5JVtOHS_lo",
        "colab": {
          "base_uri": "https://localhost:8080/"
        },
        "outputId": "960d3404-d7ab-4fb7-a96a-1a023f267bfe"
      },
      "source": [
        "# y descubrimos sus tipos con\n",
        "type(a),type(e)"
      ],
      "execution_count": null,
      "outputs": [
        {
          "output_type": "execute_result",
          "data": {
            "text/plain": [
              "(int, complex)"
            ]
          },
          "metadata": {},
          "execution_count": 5
        }
      ]
    },
    {
      "cell_type": "markdown",
      "source": [
        "Podemos formatear los textos de salida de acuerdo a los formatos de las variables incluidas en él."
      ],
      "metadata": {
        "id": "lMvSRBWlNeSU"
      }
    },
    {
      "cell_type": "code",
      "metadata": {
        "colab": {
          "base_uri": "https://localhost:8080/"
        },
        "id": "8tzxUPWgT9kl",
        "outputId": "098639d2-3fce-421d-b452-ff451c78d4b1"
      },
      "source": [
        "# formateamos textos con '%()' para incluir el valor que deseamos incluir\n",
        "# La opción %4.2f indica un float con cuatro dígitos enteros y dos decimales\n",
        "mensaje = 'El precio de %d computadores %s es de %4.2f euros'%(2, \"Apple\", 2344.956)\n",
        "print(mensaje)"
      ],
      "execution_count": null,
      "outputs": [
        {
          "output_type": "stream",
          "name": "stdout",
          "text": [
            "El precio de 2 computadores Apple es de 2344.96 euros\n"
          ]
        }
      ]
    },
    {
      "cell_type": "code",
      "metadata": {
        "colab": {
          "base_uri": "https://localhost:8080/",
          "height": 35
        },
        "id": "cqrXHSKMTGnH",
        "outputId": "49ce2f64-3f87-4081-e004-fc4169f8cc3e"
      },
      "source": [
        "# formateamos textos con 'format()'\n",
        "mensaje = 'El precio de {1:d} computadores {0:s} es de {2:4.2f} euros'\n",
        "mensaje.format('Apple', 2, 2344.956)"
      ],
      "execution_count": null,
      "outputs": [
        {
          "output_type": "execute_result",
          "data": {
            "text/plain": [
              "'El precio de 2 computadores Apple es de 2344.96 euros'"
            ],
            "application/vnd.google.colaboratory.intrinsic+json": {
              "type": "string"
            }
          },
          "metadata": {},
          "execution_count": 7
        }
      ]
    },
    {
      "cell_type": "markdown",
      "metadata": {
        "id": "C_JXAKMaAxJE"
      },
      "source": [
        "Cuando hemos de definir una secuencia, tenemos que distinguir las funcionalidades que buscamos, para optar por uno u otro tipo de objeto. Tenemos:\n",
        "\n",
        "* Lista es una colección que está ordenada y se puede cambiar. Permite elementos duplicados.\n",
        "* Tupla es una colección que no tiene orden y no se puede cambiar. Permite elementos duplicados.\n",
        "* Set es una colección que no tiene orden y no está indexada. No contiene elementos duplicados.\n",
        "* Dictionario es una colección que no tiene orden, se puede cambiar e indexar. No tiene elemenos duplicados."
      ]
    },
    {
      "cell_type": "markdown",
      "metadata": {
        "id": "_G55JFoJ9XZk"
      },
      "source": [
        "### Listas\n",
        "Son colecciones de datos relacionados. Los elementos de una lista pueden ser de tipos diferentes. Se pueden modificar, eliminar y añadir. Se definen a través de los corchetes `[]` como una secuencia de valores númericos o texto."
      ]
    },
    {
      "cell_type": "code",
      "metadata": {
        "id": "0hexcNydAuSl",
        "colab": {
          "base_uri": "https://localhost:8080/"
        },
        "outputId": "a4a80058-1be7-4a22-f568-3831278b49d8"
      },
      "source": [
        "# Listas\n",
        "lista1 = [\"manzana\", \"pera\", \"jamón\"]\n",
        "lista1.append(\"pan\")             # añadir un término\n",
        "lista2 = [[1, 2, 3], \"mensaje\"]  # Combinamos elementos de diferentes tipos\n",
        "\n",
        "print(lista1)                    # imprimimos lista 1\n",
        "print(lista2)                    # imprimimos lista 2\n",
        "\n",
        "print(lista1[-1])                # evitar todos los elementos excepto el último\n",
        "lista2[1] = \"son frutas\"         # modificar un término\n",
        "del lista2[0]                    # eliminar un término\n",
        "\n",
        "print(lista2)\n",
        "print(lista1[0:2]+lista2)        # listar los elementos 0 y 1 con la secuencia 0:2"
      ],
      "execution_count": null,
      "outputs": [
        {
          "output_type": "stream",
          "name": "stdout",
          "text": [
            "['manzana', 'pera', 'jamón', 'pan']\n",
            "[[1, 2, 3], 'mensaje']\n",
            "pan\n",
            "['son frutas']\n",
            "['manzana', 'pera', 'son frutas']\n"
          ]
        }
      ]
    },
    {
      "cell_type": "markdown",
      "metadata": {
        "id": "Dgk5gMK18L4g"
      },
      "source": [
        "Podemos crear listas con secuencias de números enteros y la función `range`"
      ]
    },
    {
      "cell_type": "code",
      "source": [
        "list(range(5))"
      ],
      "metadata": {
        "colab": {
          "base_uri": "https://localhost:8080/"
        },
        "id": "UUGOIJapPjzX",
        "outputId": "f62d8e65-f92a-4729-9a68-1ce35f3e81c8"
      },
      "execution_count": null,
      "outputs": [
        {
          "output_type": "execute_result",
          "data": {
            "text/plain": [
              "[0, 1, 2, 3, 4]"
            ]
          },
          "metadata": {},
          "execution_count": 9
        }
      ]
    },
    {
      "cell_type": "code",
      "metadata": {
        "id": "nddiOVri8RLD",
        "colab": {
          "base_uri": "https://localhost:8080/"
        },
        "outputId": "2a41c951-5893-48c7-f5e1-8bd1b23e6a79"
      },
      "source": [
        "list(range(5,10))"
      ],
      "execution_count": null,
      "outputs": [
        {
          "output_type": "execute_result",
          "data": {
            "text/plain": [
              "[5, 6, 7, 8, 9]"
            ]
          },
          "metadata": {},
          "execution_count": 10
        }
      ]
    },
    {
      "cell_type": "code",
      "metadata": {
        "id": "r0xTtN7P8a7l",
        "colab": {
          "base_uri": "https://localhost:8080/"
        },
        "outputId": "43e1a399-4078-4f69-ee8e-a3ec7b039b68"
      },
      "source": [
        "# e incluso definiendo el salto\n",
        "list(range(0, 10, 2))"
      ],
      "execution_count": null,
      "outputs": [
        {
          "output_type": "execute_result",
          "data": {
            "text/plain": [
              "[0, 2, 4, 6, 8]"
            ]
          },
          "metadata": {},
          "execution_count": 11
        }
      ]
    },
    {
      "cell_type": "markdown",
      "metadata": {
        "id": "y3rcHAtm9a7d"
      },
      "source": [
        "### Tuplas\n",
        "Son como las listas, pero sus elementos no se pueden modificar. Se definen a través de los paréntesis `()` como una secuencia de valores númericos o texto."
      ]
    },
    {
      "cell_type": "code",
      "metadata": {
        "id": "L8bIy0SyCRVZ",
        "colab": {
          "base_uri": "https://localhost:8080/"
        },
        "outputId": "163801a7-7425-4657-d003-e17dd864666c"
      },
      "source": [
        "# Tuplas\n",
        "tupla = (\"a\", 1.5, \"hola\")\n",
        "# Unión de dos tuplas\n",
        "print(tupla+tupla)"
      ],
      "execution_count": null,
      "outputs": [
        {
          "output_type": "stream",
          "name": "stdout",
          "text": [
            "('a', 1.5, 'hola', 'a', 1.5, 'hola')\n"
          ]
        }
      ]
    },
    {
      "cell_type": "markdown",
      "metadata": {
        "id": "YIyP8ekW9eZI"
      },
      "source": [
        "### Sets"
      ]
    },
    {
      "cell_type": "markdown",
      "source": [
        "Se definen a través de las llaves `{}` como una secuencia de valores númericos o texto. No pueden contener valores repetidos."
      ],
      "metadata": {
        "id": "yJJs9XCWQSFj"
      }
    },
    {
      "cell_type": "code",
      "metadata": {
        "id": "52LpTaYDHlAb",
        "colab": {
          "base_uri": "https://localhost:8080/"
        },
        "outputId": "77e2f2d3-67d7-49ff-8d3a-229a928ec2ec"
      },
      "source": [
        "# Sets\n",
        "conjunto = {\"plátano\", 5, True}\n",
        "print(conjunto)"
      ],
      "execution_count": null,
      "outputs": [
        {
          "output_type": "stream",
          "name": "stdout",
          "text": [
            "{True, 'plátano', 5}\n"
          ]
        }
      ]
    },
    {
      "cell_type": "markdown",
      "metadata": {
        "id": "2Ly0NKh19iHa"
      },
      "source": [
        "### Diccionarios\n",
        "Son una colección de datos pareados relacionados. Se definen con llaves `{}`, sus elementos son pares 'key:item', separados por comas.\n",
        "Se accede a cada elemento con el identificador 'key'."
      ]
    },
    {
      "cell_type": "code",
      "metadata": {
        "id": "nqAEbSHmH80y",
        "colab": {
          "base_uri": "https://localhost:8080/"
        },
        "outputId": "be41e39e-0316-4f64-d69d-1dd7b6aa9077"
      },
      "source": [
        "# Diccionarios\n",
        "diccionario = {1: \"patata\", 2: \"manzana\", 3:\"chuleta\"}\n",
        "\n",
        "# seleccionamos las keys 2 y 3 e imprimimos sus valores\n",
        "print(\"El menú de hoy es {} y {}.\".format(diccionario[2], diccionario[3]))\n",
        "\n",
        "del diccionario[1]   # eliminar elementos\n",
        "print(diccionario)   # imprimir el nuevo diccionario"
      ],
      "execution_count": null,
      "outputs": [
        {
          "output_type": "stream",
          "name": "stdout",
          "text": [
            "El menú de hoy es manzana y chuleta.\n",
            "{2: 'manzana', 3: 'chuleta'}\n"
          ]
        }
      ]
    },
    {
      "cell_type": "markdown",
      "metadata": {
        "id": "uoUpr37r8Rbs"
      },
      "source": [
        "## Operaciones básicas\n",
        "Vamos a definir diferentes objetos y mostrar, con ejemplos, las posibilidades que nos brindan las operaciones básicas con operadores lógicos, booleanos, aritméticos, de asignación, de identidad y de pertenencia"
      ]
    },
    {
      "cell_type": "markdown",
      "metadata": {
        "id": "U1-dSTNcrT34"
      },
      "source": [
        "Son operadores lógicos: and, or, not"
      ]
    },
    {
      "cell_type": "code",
      "metadata": {
        "id": "uikT19XOrZcv",
        "colab": {
          "base_uri": "https://localhost:8080/"
        },
        "outputId": "02c1b70d-55fa-41c0-e5f6-0f8494187652"
      },
      "source": [
        "x = 7\n",
        "x > 5 and x < 10"
      ],
      "execution_count": null,
      "outputs": [
        {
          "output_type": "execute_result",
          "data": {
            "text/plain": [
              "True"
            ]
          },
          "metadata": {},
          "execution_count": 15
        }
      ]
    },
    {
      "cell_type": "markdown",
      "metadata": {
        "id": "3ylvGpQfDZAG"
      },
      "source": [
        "Son operadores booleanos  ==, !=, >, <, >=, <=, and, or, not, is, is not, in, not in."
      ]
    },
    {
      "cell_type": "code",
      "metadata": {
        "id": "VROr7d8vC30p",
        "colab": {
          "base_uri": "https://localhost:8080/"
        },
        "outputId": "ab1b05fb-a98d-4818-99f8-22e50adffc4d"
      },
      "source": [
        "# Ejemplificamos operadores booleanos\n",
        "a = 5\n",
        "b = 4\n",
        "print(a > b), print(a != b)"
      ],
      "execution_count": null,
      "outputs": [
        {
          "output_type": "stream",
          "name": "stdout",
          "text": [
            "True\n",
            "True\n"
          ]
        },
        {
          "output_type": "execute_result",
          "data": {
            "text/plain": [
              "(None, None)"
            ]
          },
          "metadata": {},
          "execution_count": 16
        }
      ]
    },
    {
      "cell_type": "markdown",
      "metadata": {
        "id": "BVW2IkomDiVx"
      },
      "source": [
        "Son operadores numéricos `+`, `-`, `*`, `/`, `%` (módulo), `**` (potencias), `//` (división entera por defecto).\n",
        "\n",
        "Es importante que para realizar operaciones aritméticas con vectores y matrices necesitaremos la librería Numpy, que veremos más adelante."
      ]
    },
    {
      "cell_type": "code",
      "metadata": {
        "id": "DIx8xysF84Cd",
        "colab": {
          "base_uri": "https://localhost:8080/"
        },
        "outputId": "387f4ee6-12b1-48b6-e156-073e8e4cb4f8"
      },
      "source": [
        "# A partir de unos objetos, operamos\n",
        "a = 1\n",
        "b = 2.2222\n",
        "a+b, a-b, a*b, a/b"
      ],
      "execution_count": null,
      "outputs": [
        {
          "output_type": "execute_result",
          "data": {
            "text/plain": [
              "(3.2222, -1.2222, 2.2222, 0.4500045000450005)"
            ]
          },
          "metadata": {},
          "execution_count": 17
        }
      ]
    },
    {
      "cell_type": "code",
      "metadata": {
        "id": "stOBjZHM9FGi",
        "colab": {
          "base_uri": "https://localhost:8080/"
        },
        "outputId": "9d2b90a2-c8b0-4f51-b9f9-2fb13719a755"
      },
      "source": [
        "# Módulo, cociente, potencia, valor absoluto\n",
        "a%b, b//a, round(b,5), b**2, abs(a-b)"
      ],
      "execution_count": null,
      "outputs": [
        {
          "output_type": "execute_result",
          "data": {
            "text/plain": [
              "(1.0, 2.0, 2.2222, 4.93817284, 1.2222)"
            ]
          },
          "metadata": {},
          "execution_count": 18
        }
      ]
    },
    {
      "cell_type": "markdown",
      "metadata": {
        "id": "Rk-pvHlGqN6c"
      },
      "source": [
        "Los operadores de asignación más comunes son: =, +=, -=, *=, /=, %=, //=, **="
      ]
    },
    {
      "cell_type": "code",
      "metadata": {
        "id": "w6xVP0c_qkas",
        "colab": {
          "base_uri": "https://localhost:8080/"
        },
        "outputId": "b620865f-1c20-4a37-a734-d3b0866fd52c"
      },
      "source": [
        "a = 8\n",
        "b = 3\n",
        "a += b   # equivalente a a=a+b\n",
        "print(a)"
      ],
      "execution_count": null,
      "outputs": [
        {
          "output_type": "stream",
          "name": "stdout",
          "text": [
            "11\n"
          ]
        }
      ]
    },
    {
      "cell_type": "markdown",
      "metadata": {
        "id": "E8V4fwF8rzwS"
      },
      "source": [
        "Son operadores de identidad: is, is not. Son operadores de pertencia: in, not in."
      ]
    },
    {
      "cell_type": "code",
      "metadata": {
        "id": "L0iDbd7Or6pC",
        "colab": {
          "base_uri": "https://localhost:8080/"
        },
        "outputId": "4f4af0f4-97de-46d2-b725-d55349889010"
      },
      "source": [
        "# Operador de identidad\n",
        "x = 2; y = 3\n",
        "x is y"
      ],
      "execution_count": null,
      "outputs": [
        {
          "output_type": "execute_result",
          "data": {
            "text/plain": [
              "False"
            ]
          },
          "metadata": {},
          "execution_count": 20
        }
      ]
    },
    {
      "cell_type": "code",
      "metadata": {
        "id": "MzFKVUvNsBfI",
        "colab": {
          "base_uri": "https://localhost:8080/"
        },
        "outputId": "3abbda9c-3bb3-4b34-be2d-e0d17a51d976"
      },
      "source": [
        "# Operador de pertenencia\n",
        "x = 2\n",
        "xt = {1,2,3,4,5}\n",
        "x in xt"
      ],
      "execution_count": null,
      "outputs": [
        {
          "output_type": "execute_result",
          "data": {
            "text/plain": [
              "True"
            ]
          },
          "metadata": {},
          "execution_count": 21
        }
      ]
    },
    {
      "cell_type": "markdown",
      "metadata": {
        "id": "ATlxex3gO6my"
      },
      "source": [
        "Disponemos de algunas funciones específicas para realizar operaciones algo menos básicas,  como:\n",
        "index, find, upper, lower, capitalize, startswith, endswith, count, replace, join, split, append, pop. Algunas sólo se aplican en objetos de tipo string.\n",
        "\n",
        "Para aplicar estas funciones, aludimos primero al objeto, añadimos un punto, y aludimos a la función o método. Ej: objeto.append()\n"
      ]
    },
    {
      "cell_type": "code",
      "metadata": {
        "id": "ghz61bmcTM24",
        "colab": {
          "base_uri": "https://localhost:8080/"
        },
        "outputId": "85864b11-a57f-4967-e1ba-fd3296a190ce"
      },
      "source": [
        "# Añadimos elementos a listas\n",
        "lista1 = [\"manzana\",\"pera\",\"jamón\"]\n",
        "lista1.append(\"chorizo\")\n",
        "print(lista1)"
      ],
      "execution_count": null,
      "outputs": [
        {
          "output_type": "stream",
          "name": "stdout",
          "text": [
            "['manzana', 'pera', 'jamón', 'chorizo']\n"
          ]
        }
      ]
    },
    {
      "cell_type": "code",
      "metadata": {
        "id": "JTDlK0NpTRSY",
        "colab": {
          "base_uri": "https://localhost:8080/",
          "height": 35
        },
        "outputId": "9796dffb-0e1d-4d65-c8b8-1345dddd89fb"
      },
      "source": [
        "# o los extraemos\n",
        "lista1.pop(2)"
      ],
      "execution_count": null,
      "outputs": [
        {
          "output_type": "execute_result",
          "data": {
            "text/plain": [
              "'jamón'"
            ],
            "application/vnd.google.colaboratory.intrinsic+json": {
              "type": "string"
            }
          },
          "metadata": {},
          "execution_count": 23
        }
      ]
    },
    {
      "cell_type": "code",
      "metadata": {
        "id": "7E1IG0GCP7So",
        "colab": {
          "base_uri": "https://localhost:8080/"
        },
        "outputId": "9aae2fcc-2b25-422a-9fc7-686de65ea92d"
      },
      "source": [
        "# localizar el índice en el que está un elemento/carácter\n",
        "frase = \"letras del ALFABETO\"\n",
        "y = [1, 2, 3, 4, 5]\n",
        "print(\"Encontramos el 5 en la posición \", y.index(5), \"de y, con index()\",\" \\nEncontramos la a en la posición \", frase.find(\"a\"),\" de frase, con find()\" )"
      ],
      "execution_count": null,
      "outputs": [
        {
          "output_type": "stream",
          "name": "stdout",
          "text": [
            "Encontramos el 5 en la posición  4 de y, con index()  \n",
            "Encontramos la a en la posición  4  de frase, con find()\n"
          ]
        }
      ]
    },
    {
      "cell_type": "code",
      "metadata": {
        "id": "49cEAV0xSMx8",
        "colab": {
          "base_uri": "https://localhost:8080/"
        },
        "outputId": "bb80f9fe-07f2-4910-caed-4f978b63816b"
      },
      "source": [
        "# Capitalizar textos con capitalize, upper y lower\n",
        "print(frase.lower(), frase.upper(), frase.capitalize())"
      ],
      "execution_count": null,
      "outputs": [
        {
          "output_type": "stream",
          "name": "stdout",
          "text": [
            "letras del alfabeto LETRAS DEL ALFABETO Letras del alfabeto\n"
          ]
        }
      ]
    },
    {
      "cell_type": "code",
      "metadata": {
        "id": "kcOUmuJWSq9f",
        "colab": {
          "base_uri": "https://localhost:8080/"
        },
        "outputId": "561c8856-30dc-4594-cd6d-a74b5a687acd"
      },
      "source": [
        "# separar e intercalar cadenas string\n",
        "dospun = \":\"\n",
        "print(dospun.join(frase),\"\\n\",frase.split(\" \"))\n"
      ],
      "execution_count": null,
      "outputs": [
        {
          "output_type": "stream",
          "name": "stdout",
          "text": [
            "l:e:t:r:a:s: :d:e:l: :A:L:F:A:B:E:T:O \n",
            " ['letras', 'del', 'ALFABETO']\n"
          ]
        }
      ]
    },
    {
      "cell_type": "code",
      "metadata": {
        "id": "F_WfRGV8VzjD",
        "colab": {
          "base_uri": "https://localhost:8080/"
        },
        "outputId": "08024b74-a70a-4506-9416-8e601d4025c2"
      },
      "source": [
        "# contar cuántas veces tenemos un elemento\n",
        "y = [1,2,3,3]; palabra = \"palabra\"\n",
        "print(\"Hay \", y.count(3), \"treses en \", y, \"\\n La letra a se repite \", palabra.count(\"a\"), \"veces en \", palabra)"
      ],
      "execution_count": null,
      "outputs": [
        {
          "output_type": "stream",
          "name": "stdout",
          "text": [
            "Hay  2 treses en  [1, 2, 3, 3] \n",
            " La letra a se repite  3 veces en  palabra\n"
          ]
        }
      ]
    },
    {
      "cell_type": "markdown",
      "metadata": {
        "id": "5jdH29sM9ilb"
      },
      "source": [
        "La **selección** en Python se hace teniendo en cuenta que la indexación de los elementos de un objeto indexable siempre empieza en cero. Seleccionamos elementos individuales con el corchete `[]`, y varios elementos con lo que en python se llama \"slicing\"."
      ]
    },
    {
      "cell_type": "code",
      "metadata": {
        "id": "9vfLAvxa9oVa",
        "colab": {
          "base_uri": "https://localhost:8080/"
        },
        "outputId": "5a7da69f-32dc-42ab-a1f1-7ae564381662"
      },
      "source": [
        "x = list(range(10,20,2))\n",
        "print(x, \"---->\", x[2], \"---->\", x[2:], \"---->\", x[-2:])"
      ],
      "execution_count": null,
      "outputs": [
        {
          "output_type": "stream",
          "name": "stdout",
          "text": [
            "[10, 12, 14, 16, 18] ----> 14 ----> [14, 16, 18] ----> [16, 18]\n"
          ]
        }
      ]
    },
    {
      "cell_type": "markdown",
      "metadata": {
        "id": "QTGOrm23ORoz"
      },
      "source": [
        "## Bucles y condiciones"
      ]
    },
    {
      "cell_type": "markdown",
      "metadata": {
        "id": "QTefB-TgtWTV"
      },
      "source": [
        "Los comandos habituales para proponer condiciones de ejecución y desarrollar bucles son:\n",
        "\n",
        "* if, if else, elif (para especificar condiciones de ejecución)\n",
        "* for, while (para lanzar bucles)\n",
        "* break, continue (controlan cortes o seguimientos de bucles)\n",
        "\n",
        "Veamos con ejemplos cómo funcionan. Es muy importante al generar bucles, respetar la indentación de los comandos que van anidados dentro de una condición o de un bucle. Si no los respetamos, no funcionarán."
      ]
    },
    {
      "cell_type": "markdown",
      "metadata": {
        "id": "U5XqmOa2uwN5"
      },
      "source": [
        "### if, elif, else"
      ]
    },
    {
      "cell_type": "code",
      "metadata": {
        "id": "cBJRnO4ptsAt",
        "colab": {
          "base_uri": "https://localhost:8080/"
        },
        "outputId": "e8c5421c-e42d-43b7-ce11-e7b24303d8bb"
      },
      "source": [
        "# bucle if\n",
        "a = 33\n",
        "b = 200\n",
        "if b > a:\n",
        "  print(\"b es mayor que a\")"
      ],
      "execution_count": null,
      "outputs": [
        {
          "output_type": "stream",
          "name": "stdout",
          "text": [
            "b es mayor que a\n"
          ]
        }
      ]
    },
    {
      "cell_type": "code",
      "metadata": {
        "id": "Z8F86-3RuROl",
        "colab": {
          "base_uri": "https://localhost:8080/"
        },
        "outputId": "d219101e-fcda-43f1-9217-0ac8568d40ba"
      },
      "source": [
        "# bucle if-else\n",
        "a = 33\n",
        "b = 200\n",
        "if b > a:\n",
        "  print(\"b es mayor que a\")\n",
        "else:\n",
        "  print(\"a es mayor que b\")"
      ],
      "execution_count": null,
      "outputs": [
        {
          "output_type": "stream",
          "name": "stdout",
          "text": [
            "b es mayor que a\n"
          ]
        }
      ]
    },
    {
      "cell_type": "code",
      "metadata": {
        "id": "qct_ysrvuCiq",
        "colab": {
          "base_uri": "https://localhost:8080/"
        },
        "outputId": "7d8f861e-2e8a-43f6-8d2c-ea1b7ff8bef6"
      },
      "source": [
        "# Cuando ofrecemos varias alternativas, usamos elif\n",
        "a = 33\n",
        "b = 200\n",
        "if b > a:\n",
        "  print(\"b es mayor que a\")\n",
        "elif a == b:\n",
        "  print(\"a y b son iguales\")\n",
        "else:\n",
        "  print(\"a es mayor que b\")"
      ],
      "execution_count": null,
      "outputs": [
        {
          "output_type": "stream",
          "name": "stdout",
          "text": [
            "b es mayor que a\n"
          ]
        }
      ]
    },
    {
      "cell_type": "markdown",
      "source": [
        "En ocasiones tenemos que hacer pocos cálculos dentro de un bucle, y entonces nos interesa utilizar un código más breve, que es el que nos da la construcción de objetos por comprensión. Para la creación de listas de comprensión generamos una lista utilizando los corchetes e indicamos los valores que debemos incluir dentro."
      ],
      "metadata": {
        "id": "OWSYfo0URhh8"
      }
    },
    {
      "cell_type": "code",
      "source": [
        "# Lista con los 10 primeros números naturales\n",
        "numeros = range(1,11)\n",
        "# Cuadrado de los 10 primeros números naturales mediante lista por comprensión\n",
        "# [objeto creado for secuencia]\n",
        "[x**2 for x in numeros]"
      ],
      "metadata": {
        "id": "ReR6dor_RxK6",
        "colab": {
          "base_uri": "https://localhost:8080/"
        },
        "outputId": "9205214e-388c-4af8-98ac-5765a85f3573"
      },
      "execution_count": null,
      "outputs": [
        {
          "output_type": "execute_result",
          "data": {
            "text/plain": [
              "[1, 4, 9, 16, 25, 36, 49, 64, 81, 100]"
            ]
          },
          "metadata": {},
          "execution_count": 34
        }
      ]
    },
    {
      "cell_type": "code",
      "source": [
        "# Lista por comeprensión con bucle if interno\n",
        "# obtener una lista con el cuadrado de los 10 primeros número naturales pares\n",
        "[x**2 for x in numeros if x%2==0]"
      ],
      "metadata": {
        "id": "Ms7S1EicR6uJ",
        "colab": {
          "base_uri": "https://localhost:8080/"
        },
        "outputId": "5518fe44-cf31-443f-db21-ad2ca39965ba"
      },
      "execution_count": null,
      "outputs": [
        {
          "output_type": "execute_result",
          "data": {
            "text/plain": [
              "[4, 16, 36, 64, 100]"
            ]
          },
          "metadata": {},
          "execution_count": 35
        }
      ]
    },
    {
      "cell_type": "code",
      "source": [
        "# Lista por comeprensión con bucle if-else interno\n",
        "# lista con el cuadrado de los pares y el doble de los impares\n",
        "[x**2 if x%2==0 else x*2 for x in numeros]"
      ],
      "metadata": {
        "id": "y9jkFz2VSGrJ",
        "colab": {
          "base_uri": "https://localhost:8080/"
        },
        "outputId": "995c85ae-032d-46ec-c38e-cdb9df5b5499"
      },
      "execution_count": null,
      "outputs": [
        {
          "output_type": "execute_result",
          "data": {
            "text/plain": [
              "[2, 4, 6, 16, 10, 36, 14, 64, 18, 100]"
            ]
          },
          "metadata": {},
          "execution_count": 36
        }
      ]
    },
    {
      "cell_type": "markdown",
      "metadata": {
        "id": "-Aa9ViAru1KH"
      },
      "source": [
        "### while, for"
      ]
    },
    {
      "cell_type": "markdown",
      "source": [
        "for es útil para recorrer elementos de listas"
      ],
      "metadata": {
        "id": "63NgaDFFUyPB"
      }
    },
    {
      "cell_type": "code",
      "metadata": {
        "id": "B_L75NRBwDND",
        "colab": {
          "base_uri": "https://localhost:8080/"
        },
        "outputId": "ebb6ba19-462a-49e4-a838-3118419d9e32"
      },
      "source": [
        "# lista\n",
        "frutas = [\"manzana\", \"banana\", \"fresa\"]\n",
        "# bucle de ejecución\n",
        "for x in frutas:\n",
        "  print(x)"
      ],
      "execution_count": null,
      "outputs": [
        {
          "output_type": "stream",
          "name": "stdout",
          "text": [
            "manzana\n",
            "banana\n",
            "fresa\n"
          ]
        }
      ]
    },
    {
      "cell_type": "markdown",
      "source": [
        "while es útil para ejecutar repetidamente una instrucción mientras se satisface una condición. En este caso simpre debemos definir un contador de inicio para verificar que se cumple la condición"
      ],
      "metadata": {
        "id": "8ovTvptEUR5c"
      }
    },
    {
      "cell_type": "code",
      "metadata": {
        "id": "XpBnk3Xku5c5",
        "colab": {
          "base_uri": "https://localhost:8080/"
        },
        "outputId": "a277dd61-911c-4943-8fc6-7973cc8760d8"
      },
      "source": [
        "# Iniciamos el contador\n",
        "i = 1\n",
        "# Bucle de ejecución\n",
        "while i < 6:\n",
        "  print(i)\n",
        "  i += 1"
      ],
      "execution_count": null,
      "outputs": [
        {
          "output_type": "stream",
          "name": "stdout",
          "text": [
            "1\n",
            "2\n",
            "3\n",
            "4\n",
            "5\n"
          ]
        }
      ]
    },
    {
      "cell_type": "markdown",
      "metadata": {
        "id": "CFLsIn-_wNS_"
      },
      "source": [
        "### break y continue"
      ]
    },
    {
      "cell_type": "markdown",
      "source": [
        "Podríamos interrumpir una ejecución en bucle con \"break\", si se da alguna otra condición"
      ],
      "metadata": {
        "id": "uJFspJoTVCVy"
      }
    },
    {
      "cell_type": "code",
      "metadata": {
        "id": "h6WXWHbIvGWO",
        "colab": {
          "base_uri": "https://localhost:8080/"
        },
        "outputId": "bfc01cfb-e579-498b-ccf0-3cb52064fad1"
      },
      "source": [
        "# inicializamos índice del bucle\n",
        "i = 1\n",
        "# bucle while hasta que se cumple la condición if\n",
        "while i < 6:\n",
        "  print(i)\n",
        "  if i == 3:\n",
        "    break\n",
        "  i += 1"
      ],
      "execution_count": null,
      "outputs": [
        {
          "output_type": "stream",
          "name": "stdout",
          "text": [
            "1\n",
            "2\n",
            "3\n"
          ]
        }
      ]
    },
    {
      "cell_type": "markdown",
      "source": [
        "o continuarla. Por ejemplo, el bucle corre sin ejecutar nada salvo que se dé cierta condición"
      ],
      "metadata": {
        "id": "Ac0DgNDOVPRy"
      }
    },
    {
      "cell_type": "code",
      "metadata": {
        "id": "2rINOZkivis9",
        "colab": {
          "base_uri": "https://localhost:8080/"
        },
        "outputId": "73d494cc-ebc2-47e6-89c0-2857d1bf7453"
      },
      "source": [
        "# lista\n",
        "frutas = [\"manzana\", \"banana\", \"fresa\",\"sandía\"]\n",
        "# índice apra rcorrer la lista\n",
        "indices = [0,1,2,3]\n",
        "# Bucle de ejecución sin interrupción\n",
        "for i in indices:\n",
        "  if i == 2:\n",
        "    print(\"No me gusta la\", frutas[i])\n",
        "  else:\n",
        "    print(\"Me gusta la\", frutas[i])\n",
        "    continue"
      ],
      "execution_count": null,
      "outputs": [
        {
          "output_type": "stream",
          "name": "stdout",
          "text": [
            "Me gusta la manzana\n",
            "Me gusta la banana\n",
            "No me gusta la fresa\n",
            "Me gusta la sandía\n"
          ]
        }
      ]
    },
    {
      "cell_type": "markdown",
      "metadata": {
        "id": "o4ZBU8i0cs5T"
      },
      "source": [
        "### try y except\n",
        "Se utilizan para controlar los errores y dar indicaciones de qué hacer cuando se produce un error."
      ]
    },
    {
      "cell_type": "code",
      "metadata": {
        "colab": {
          "base_uri": "https://localhost:8080/"
        },
        "id": "izNsJJySc7TA",
        "outputId": "616a3cea-e46f-4c3b-d25b-bae0af991a00"
      },
      "source": [
        "divisor = [1,2,0]\n",
        "for i in divisor:\n",
        "  try:\n",
        "    division = 5/i\n",
        "    print(\"5 entre\", i, \"=\", division)\n",
        "  except ZeroDivisionError:\n",
        "    print(\"El divisor es\", i, \": no se puede dividir.\")\n"
      ],
      "execution_count": null,
      "outputs": [
        {
          "output_type": "stream",
          "name": "stdout",
          "text": [
            "5 entre 1 = 5.0\n",
            "5 entre 2 = 2.5\n",
            "El divisor es 0 : no se puede dividir.\n"
          ]
        }
      ]
    },
    {
      "cell_type": "markdown",
      "metadata": {
        "id": "SJ1FLyWhJ2z6"
      },
      "source": [
        "## Funciones\n"
      ]
    },
    {
      "cell_type": "markdown",
      "metadata": {
        "id": "4JsC7VyY0XTZ"
      },
      "source": [
        "Crear funciones en Python es muy sencillo y se realiza con el comando `def`."
      ]
    },
    {
      "cell_type": "code",
      "metadata": {
        "id": "9Pttm_En4CmP",
        "colab": {
          "base_uri": "https://localhost:8080/"
        },
        "outputId": "b0a599d3-cfd6-4996-ef93-f2d947d7359a"
      },
      "source": [
        "# Se pueden definir funciones sin parámetros o argumentos\n",
        "def mi_funcion():\n",
        "  print(\"Hola, soy una función\")\n",
        "\n",
        "# Ejecución d ela función\n",
        "mi_funcion()"
      ],
      "execution_count": null,
      "outputs": [
        {
          "output_type": "stream",
          "name": "stdout",
          "text": [
            "Hola, soy una función\n"
          ]
        }
      ]
    },
    {
      "cell_type": "code",
      "metadata": {
        "id": "X-enLeJ04TuF",
        "colab": {
          "base_uri": "https://localhost:8080/"
        },
        "outputId": "8f20daae-6218-44b0-9434-d31debc2e247"
      },
      "source": [
        "# función para solicitar valores input\n",
        "def mi_funcion():\n",
        "  print(\"Dame un nombre, por favor\")\n",
        "  nombre=input()\n",
        "  print(\"Hola, soy la función \", nombre)\n",
        "\n",
        "# Ejecución d ela función\n",
        "mi_funcion()"
      ],
      "execution_count": null,
      "outputs": [
        {
          "output_type": "stream",
          "name": "stdout",
          "text": [
            "Dame un nombre, por favor\n",
            "Javier\n",
            "Hola, soy la función  Javier\n"
          ]
        }
      ]
    },
    {
      "cell_type": "markdown",
      "source": [
        "Ahora definimos una función con argumentos que debemos introducir. En este caso devolvemos el resultado de la función con `return()`"
      ],
      "metadata": {
        "id": "H-PRzetiWzZf"
      }
    },
    {
      "cell_type": "code",
      "metadata": {
        "id": "N8_epG5D5HGZ",
        "colab": {
          "base_uri": "https://localhost:8080/"
        },
        "outputId": "5d203acd-3ddf-484b-eb48-da3f89597627"
      },
      "source": [
        "# definición de la función\n",
        "def fun_suma(x):\n",
        "  y = 0\n",
        "  indices = range(0, len(x))\n",
        "  for i in indices:\n",
        "    y += x[i]\n",
        "  print(\"La suma de los elementos es\", y)\n",
        "  # resultado de la función\n",
        "  return(y)\n",
        "\n",
        "# argumentos para la función\n",
        "x = [1, 2, 3, 4, 5]\n",
        "# resultado de la función aplicada a la lista y\n",
        "y = fun_suma(x);\n",
        "# Combinamos el resultado de la función con otra operación\n",
        "print(\"Y si le sumamos 1, tenemos\", y+1)"
      ],
      "execution_count": null,
      "outputs": [
        {
          "output_type": "stream",
          "name": "stdout",
          "text": [
            "La suma de los elementos es 15\n",
            "Y si le sumamos 1, tenemos 16\n"
          ]
        }
      ]
    }
  ]
}