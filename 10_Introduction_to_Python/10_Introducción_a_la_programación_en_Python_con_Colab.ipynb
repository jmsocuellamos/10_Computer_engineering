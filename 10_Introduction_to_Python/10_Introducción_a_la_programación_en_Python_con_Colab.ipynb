{
  "nbformat": 4,
  "nbformat_minor": 0,
  "metadata": {
    "colab": {
      "provenance": []
    },
    "kernelspec": {
      "name": "python3",
      "display_name": "Python 3"
    },
    "language_info": {
      "name": "python"
    }
  },
  "cells": [
    {
      "cell_type": "markdown",
      "source": [
        "# <font color='steelblue'> Cuadernos Jupyter y Google Colab</font>\n",
        "\n",
        "**Material desarrollado por los [equipos de trabajo de IA4LEGOS](https://ia4legos.umh.es/)**\n",
        "\n",
        "\n",
        "**Fecha última edición**: 10/05/2025\n",
        "\n",
        "**Licencia**: <small><a rel=\"license\" href=\"http://creativecommons.org/licenses/by-sa/4.0/\"><img alt=\"Creative Commons License\" style=\"border-width:0\" src=\"https://i.creativecommons.org/l/by-sa/4.0/88x31.png\" /></a><br /></small>\n",
        "\n",
        "No olvides hacer una copia si deseas utilizarlo. Al usar estos contenidos, aceptas nuestros términos de uso y nuestra política de privacidad."
      ],
      "metadata": {
        "id": "d_syiUoejtCi"
      }
    },
    {
      "cell_type": "markdown",
      "source": [
        "## <font color='steelblue'> Introducción</font>\n",
        "\n",
        "\n",
        "**Descripción:** En este cuaderno se hace una pequeña introducción al entorno de *Jupyter Notebooks* y a la implementación realizada por Google con  *Google Colab*. Te familiarizarás con el entorno de Google Colab para trabajar eficientemente programando en Python con cuadernos Jupyter.\n",
        "\n",
        "\n",
        "**Recomendaciones antes de usarlo:** Conocimientos básicos del manejo de Google Drive.\n",
        "\n",
        "\n"
      ],
      "metadata": {
        "id": "Wt99G2Jk5jX4"
      }
    },
    {
      "cell_type": "markdown",
      "source": [
        "## <font color='steelblue'>Objetivos de aprendizaje</font>\n",
        "\n",
        "*  Descubrir los Jupyter Notebooks y el entorno Google Colab para la programación en Python.\n",
        "*   Aprender a utilizar un cuaderno de Google Colab.\n",
        "* Revisar principios básicos de escritura Markdown para formatear celdas de texto.\n",
        "* Revisar fundamentos de escritura con LaTeX para insertar fórmulas matemáticas.\n",
        "* Aprender el manejo de las celdas de código.\n",
        "* Aprender el manejo de los formularios de Colab.\n",
        "* Descubrir otras funcionalidades de un cuaderno Colab y su conexión con Google Drive.\n",
        "* Mostrar algunos ejemplos de cuadernos Jupyter.\n",
        "\n"
      ],
      "metadata": {
        "id": "9ltHVrooVePh"
      }
    },
    {
      "cell_type": "markdown",
      "source": [
        "##<font color='steelblue'>Contenidos</font>\n",
        "1. Jupyter Notebooks y Google Colab\n",
        "1. Tu primer cuaderno Colab\n",
        "1. Documentando tu código\n",
        "1. Inserción de ecuaciones\n",
        "1. Celdas de código\n",
        "1. Formularios\n",
        "1. Complementos\n",
        "1. Ejemplos de cuadernos Jupyter\n",
        "1. Reto Aprendiz\n",
        "\n"
      ],
      "metadata": {
        "id": "LM2ZUu31V9HS"
      }
    },
    {
      "cell_type": "markdown",
      "source": [
        "## <font color='steelblue'>1. Jupyter Notebooks y Google Colab</font>\n"
      ],
      "metadata": {
        "id": "SesRoXZfZ7q9"
      }
    },
    {
      "cell_type": "markdown",
      "source": [
        "### <font color='steelblue'>¿Qué son los Jupyter Notebooks?</font>\n",
        "\n",
        "Un cuaderno Jupyter, o **Jupyter Notebook**, es una aplicación web desarrollada bajo el [Proyecto Jupyter](https://jupyter.org/), que proporciona un entorno web interactivo de código abierto para crear y compartir documentos. Estos documentos pueden contener secuencias de código de programación, resultados de ejecución (tablas, gráficos, etc.), y textos para explicar y comentar los resultados."
      ],
      "metadata": {
        "id": "ZmAMlFfkYegK"
      }
    },
    {
      "cell_type": "markdown",
      "source": [
        "### <font color='steelblue'>Los componentes de Jupyter Notebooks</font>\n",
        "\n",
        "Los [Jupyter Notebooks](https://jupyter.org/) combinan tres componentes:\n",
        "\n",
        "* La **aplicación web**: una aplicación web interactiva para escribir y ejecutar código de manera interactiva.\n",
        "\n",
        "* **Entorno de ejecución**: procesos separados iniciados por la aplicación web que ejecuta el código de los usuarios en un lenguaje de programación determinado y devuelve la salida a la aplicación web del cuaderno.\n",
        "\n",
        "* **Documentos o cuadernos**, que se pueden generar auto-contenidos, que contienen una representación de todo el contenido visible en la aplicación web del cuaderno, incluidas las entradas y salidas de los cálculos, el texto narrativo, las ecuaciones, las imágenes y las representaciones multimedia de objetos. Cada documento o cuaderno tiene su propio entorno de ejecución.\n"
      ],
      "metadata": {
        "id": "KmFBOvduacDo"
      }
    },
    {
      "cell_type": "markdown",
      "source": [
        "### <font color='steelblue'>La Aplicación web Colaboratory en el entorno gratuito de Jupyter Notebook</font>\n",
        "\n",
        "La aplicación web [COLABORATORY](https://colab.research.google.com/notebooks/welcome.ipynb), también conocida como **Google Colab**, permite a los usuarios de *Google*:\n",
        "\n",
        "   * Editar el código en el navegador.\n",
        "\n",
        "   * Ejecutar el código desde el navegador.\n",
        "\n",
        "   * Visualizar los resultados de los cálculos junto al código que los generó.\n",
        "\n",
        "   * Comentar los resultados utilizando el lenguaje de marcas *Markdown*.\n",
        "\n",
        "Todos los cuadernos Colab se almacenan y gestionan respecto a edición y permisos, como cualquier otro documento de Google desde Google Drive."
      ],
      "metadata": {
        "id": "G38oMvH1iBal"
      }
    },
    {
      "cell_type": "markdown",
      "source": [
        "### <font color='steelblue'>Los entornos de ejecución de Colab</font>\n",
        "\n",
        "[COLABORATORY](https://colab.research.google.com/notebooks/welcome.ipynb) está pensado para programar en diferentes lenguajes de programación. En cada cuaderno que abre un usuario, la aplicación web inicia un entorno de ejecución que permite ejecutar el código de ese cuaderno. Cada entorno de ejecución es capaz de ejecutar código en un solo lenguaje de programación, y de momento, hay entornos de ejecución disponibles en los siguientes idiomas:\n",
        "\n",
        "* [Python 3.0](https://www.python.org/download/releases/3.0/)\n",
        "* [R](https://www.r-project.org/)\n",
        "\n",
        "En este módulo trabajaremos con [Python 3.0](https://www.python.org/download/releases/3.0/)"
      ],
      "metadata": {
        "id": "W5rDhtybjP7r"
      }
    },
    {
      "cell_type": "markdown",
      "source": [
        "### <font color='steelblue'>Los rivales de Colab</font>\n",
        "\n",
        "Existen diversas alternativas para ejecutar Cuadernos Jupyter en la nube, como los que se mencionan en [DataSchool.io](https://www.dataschool.io/cloud-services-for-jupyter-notebook/) y destacamos a continuación:\n",
        "\n",
        "*   [Binder](https://mybinder.org/)\n",
        "*   [Kaggle](https://www.kaggle.com/)\n",
        "*   [Microsoft Azure Notebooks](https://notebooks.azure.com/)\n",
        "*   [CoCalc](https://cocalc.com/)\n",
        "*   [Datalore](https://datalore.io/)\n",
        "*   [Amazon SageMaker](https://aws.amazon.com/es/sagemaker/) (gratis 2 meses)\n",
        "*   [SaturnCloud](https://saturncloud.io/)\n",
        "*   [JetBrains](https://datalore.jetbrains.com/)\n",
        "\n",
        "Con el fin de orientar al lector, hemos creado esta\n",
        "[Tabla comparativa](https://docs.google.com/spreadsheets/d/12thaaXg1Idr3iWST8QyASNDs08sjdPd6m9mbCGtHFn0/edit#gid=1505836451) en la que se comparan las prestaciones de algunos de estos servicios mencionados anteriormente."
      ],
      "metadata": {
        "id": "5Qe9Mvj9zjLq"
      }
    },
    {
      "cell_type": "markdown",
      "source": [
        "### <font color='steelblue'>Los documentos de Colab</font>\n",
        "\n",
        "Los cuadernos de Jupyter en Colab se pueden construir con las entradas y salidas de una sesión interactiva, así como el texto narrativo con que queramos acompañar la ejecución.\n",
        "\n",
        "Los cuadernos constan de una secuencia lineal de celdas, de dos tipos básicos:\n",
        "  \n",
        "   \n",
        "*   **Celdas de texto**: en las que se escribe texto y que puede incluir enlaces, ecuaciones, imágenes, indexaciones, etc., utilizando el lenguaje [Markdown](https://www.markdownguide.org/)\n",
        "\n",
        "*  **Celdas de código**: en las que se emplaza código que se puede ejecutar en vivo, y que generan asimismo otras celdas con los resultados de la ejecución.  \n",
        "\n",
        "Los archivos de tipo Colab, se guardan en Google Drive con la extensión \".ipynb\"."
      ],
      "metadata": {
        "id": "2aX6d_qNiZgF"
      }
    },
    {
      "cell_type": "markdown",
      "source": [
        "## <font color='steelblue'>2. Tu primer cuaderno Colab</font>\n"
      ],
      "metadata": {
        "id": "Dy-4PRSSkw20"
      }
    },
    {
      "cell_type": "markdown",
      "source": [
        "*En* este apartado pretendemos ofrecerte una guía completa paso a paso para crear y trabajar con tu primer cuaderno Colab.\n",
        "\n",
        "**Nota:** Como Colab utiliza implícitamente Google Drive para almacenar los cuadernos, asegúrate de haber iniciado sesión en tu cuenta de Google Drive antes de continuar."
      ],
      "metadata": {
        "id": "nrSFySInDwfu"
      }
    },
    {
      "cell_type": "markdown",
      "source": [
        "### <font color='steelblue'>Crear Nuevo Cuaderno</font>\n",
        "\n",
        "\n",
        "**Paso 1:** La primera vez que usas Google Colab en tu ordenador, abre la siguiente URL en tu navegador: https://colab.research.google.com.\n",
        "\n",
        "Tu navegador mostrará algo parecido a la siguiente pantalla (si has iniciado sesión en Google Drive):\n",
        "\n",
        "<img src=https://raw.githubusercontent.com/ia4legos/Statistics/main/images/img_10_20_10.png>\n",
        "\n",
        "\n",
        "**Paso 2:** Al clicar en **Nuevo cuaderno**, en la parte inferior, se abre un nuevo cuaderno como se muestra a continuación.\n",
        "\n",
        "<img src=https://raw.githubusercontent.com/ia4legos/Statistics/main/images/img_10_20_20.png>\n",
        "\n",
        "Por defecto aparece una primera celda de código, en la que podremos empezar a introducir código de Python.\n",
        "\n",
        "Por defecto, Colab utiliza la convención de nombres UntitledXX.ipynb. Para cambiar su nombre, hay que hacer clic en el nombre, cambiarlo con el nombre deseado (sin modificar o suprimir la extensión .ipynb) y pulsar la tecla ENTER.\n",
        "\n",
        "<img src=https://raw.githubusercontent.com/ia4legos/Statistics/main/images/img_10_20_30.png>\n",
        "\n",
        "\n",
        "Llamamos a este cuaderno **MiPrimerCuadernoColab**.\n",
        "\n"
      ],
      "metadata": {
        "id": "Wm2U0ZuCDmpO"
      }
    },
    {
      "cell_type": "markdown",
      "source": [
        "### <font color='steelblue'>Añadir, mover y eliminar celdas</font>\n",
        "\n",
        "Como ya hemos dicho, la primera celda que aparece es de tipo código. Al aproximar el cursor al borde inferior de la celda aparecerán dos opciones, \"**+Código**\", y \"**+Texto**\", que nos permitirán añadir otras celdas de código o texto, conforme las necesitemos.\n",
        "\n",
        "<img src=https://raw.githubusercontent.com/ia4legos/Statistics/main/images/img_10_20_40.png>\n",
        "\n",
        "También podemos **añadir celdas** pulsando los botones que aparecen debajo en la barra superior del cuaderno, a la izquierda:\n",
        "\n",
        "<img src=https://raw.githubusercontent.com/ia4legos/Statistics/main/images/img_10_20_50.png>\n",
        "\n",
        "La nueva celda se crea debajo de la que tenemos seleccionada.\n",
        "\n",
        "Para intercambiar el orden entre celdas (**mover celdas**) podemos utilizar las flechas arriba/abajo que aparecen en la parte derecha superior de la celda.\n",
        "\n",
        "<img src=https://raw.githubusercontent.com/ia4legos/Statistics/main/images/img_10_20_60.png>\n",
        "\n",
        "\n",
        "**Nota:** para poder moverla en ambos sentidos, tiene que haber una celda arriba y otra abajo. Si no es el caso, las flechas aparecerán solo en un sentido.\n",
        "\n",
        "Si queremos **eliminar una celda** cualquiera, basta con borrarla utilizando el icono de papelera en la parte derecha superior de la celda.\n",
        "<img src=https://raw.githubusercontent.com/ia4legos/Statistics/main/images/img_10_20_70.png>\n",
        "\n",
        "\n",
        "Cuando **termines tu sesión** y cierres el cuaderno, este habrá quedado archivado en Google Drive, en una carpeta llamada *Colab Notebooks*, desde donde podrás reabrirlo la próxima vez que quieras utilizarlo.\n",
        "\n",
        "La próxima vez que quieras **crear un cuaderno Colab**, podrás hacerlo directamente **desde Google Drive**, clicando en \"**+Nuevo >  Más > Google Colaboratory**\", pues ya se habrá instalado la aplicación *Colaboratory* en Drive.\n"
      ],
      "metadata": {
        "id": "yLqYtcMwE1X9"
      }
    },
    {
      "cell_type": "markdown",
      "source": [
        "## <font color='steelblue'>3. Documentar tu código</font>\n"
      ],
      "metadata": {
        "id": "yAC8i21dQq13"
      }
    },
    {
      "cell_type": "markdown",
      "source": [
        "Una vez sabemos crear un cuaderno Colab, vamos a descubrir cómo sacar el máximo provecho a las celdas de texto para documentar todo el código y resultados que generemos, introduciendo desde textos hasta imágenes, y pasando por listados, ecuaciones, etc.\n",
        "\n",
        "Para editar una celda de texto en un cuaderno de nuestra propiedad (o con permisos de edición), basta hacer doble clic sobre la celda, o utilizar el icono de lápiz que aparece en la barra de marcadores en la parte superior derecha de la celda. Para salir del modo edición, basta acceder a otra celda, o simplemente volver a clicar sobre el lápiz en la parte superior de la celda.\n",
        "\n",
        "\n",
        "Colab soporta [MathJax](https://www.mathjax.org) para visualizar las ecuaciones que se generan con sintaxis de  [$\\LaTeX$](http://www.latex-project.org/). Sin embargo, no acepta etiquetas HTML, ni emoticonos o casillas de verificación de tareas. Con todo, puede incluirse algo de programación HTML en un cuaderno Colab utilizando el comando `%%html` y siguiendo las indicaciones que se dan en esta [guía](/notebooks/basic_features_overview.ipynb#scrollTo=qM4myQGfQboQ).\n",
        "\n",
        "Veamos a continuación algunas reglas básicas para escribir y formatear las celdas de texto."
      ],
      "metadata": {
        "id": "lHIE-b4_PWde"
      }
    },
    {
      "cell_type": "markdown",
      "source": [
        "### <font color='steelblue'>Formatear texto</font>"
      ],
      "metadata": {
        "id": "0DO4-PfcREix"
      }
    },
    {
      "cell_type": "markdown",
      "source": [
        "Formatear texto en negrita o cursiva es una tarea sencilla con los símbolos `*`, como se muestra en la tabla a continuación. También es muy sencillo crear hipervínculos a páginas web o documentos publicados en la web."
      ],
      "metadata": {
        "id": "-LPGkxNIDNH3"
      }
    },
    {
      "cell_type": "markdown",
      "source": [
        "Markdown | Vista previa\n",
        "--- | ---\n",
        "`**texto en negrita**` | **texto en negrita**\n",
        "`*texto en cursiva*` or `_texto en cursiva_` | *texto en cursiva*\n",
        "`` `Monospace` `` | `Monospace`\n",
        "`~~tachado~~` | ~~tachado~~\n",
        "`[Un link](https://www.google.com)` | [Un link](https://www.google.com)\n",
        "`[Un pdf](https://www.tutorialspoint.com/google_colab/google_colab_tutorial.pdf)`| [Un pdf](https://www.tutorialspoint.com/google_colab/google_colab_tutorial.pdf)"
      ],
      "metadata": {
        "id": "CivIHYuNRhcQ"
      }
    },
    {
      "cell_type": "markdown",
      "source": [
        "Para cambiar el color o el tamaño de un texto, hay que escribir lo siguiente:\n",
        "\n",
        "```markdown\n",
        "<font color='green'> Color verde</font>\n",
        "\n",
        "<font size=\"1\"> Tamaño de texto 1</font>\n",
        "\n",
        "<font size=\"3\"> Tamaño de texto 3</font>\n",
        "\n",
        "<font size=\"4\" color=\"red\"> Tamaño de texto 4 y color rojo</font>\n",
        "```\n",
        "\n",
        "<font color='green'> Color verde</font>\n",
        "\n",
        "<font size=\"1\"> Tamaño de texto 1</font>\n",
        "\n",
        "<font size=\"3\"> Tamaño de texto 3</font>\n",
        "\n",
        "<font size=\"5\" color=\"red\"> Tamaño de texto 4 y color rojo</font>"
      ],
      "metadata": {
        "id": "tkNAzTfrCs9t"
      }
    },
    {
      "cell_type": "markdown",
      "source": [
        "###  <font color='steelblue'>Secciones y encabezados</font>"
      ],
      "metadata": {
        "id": "qAIeES6nSRZk"
      }
    },
    {
      "cell_type": "markdown",
      "source": [
        "Los documentos se pueden estructurar por secciones, iniciadas por encabezados, a distintos niveles. Se utiliza el símbolo `#` para indicar el nivel de encabezado.\n",
        "\n",
        "Cada encabezado (secciones/subsecciones) ha de definirse en una celda diferente para que sea reconocido.\n",
        "\n",
        "```markdown\n",
        "# Sección 1\n",
        "# Sección 2\n",
        "## Subsección de la Sección 2\n",
        "### Subsección de la subsección de la Sección 2\n",
        "# Sección 3\n",
        "```\n",
        "\n",
        "Al identificar como encabezados los títulos de las secciones y subsecciones del documento, se crea directamente una tabla de contenidos o índice del cuaderno en la ventana de Colab, al que se accede desde el símbolo de listado en la barra lateral izquierda del cuaderno.\n",
        "\n",
        "\n",
        "\n"
      ],
      "metadata": {
        "id": "UZR6TmKrSVGC"
      }
    },
    {
      "cell_type": "markdown",
      "source": [
        "### <font color='steelblue'>Sangrías</font>"
      ],
      "metadata": {
        "id": "mdD8PPGfdWq-"
      }
    },
    {
      "cell_type": "markdown",
      "source": [
        "```markdown\n",
        ">Un nivel de sangría\n",
        "```\n",
        "\n",
        ">Un nivel de sangría\n",
        "\n",
        "\n",
        "```markdown\n",
        ">>Dos niveles de sangría\n",
        "```\n",
        "\n",
        ">>Dos niveles de sangría"
      ],
      "metadata": {
        "id": "GbsLeh4sdeKC"
      }
    },
    {
      "cell_type": "markdown",
      "source": [
        "### <font color='steelblue'>Listas</font>"
      ],
      "metadata": {
        "id": "Fa967rq8dqz_"
      }
    },
    {
      "cell_type": "markdown",
      "source": [
        "Listas sin numerar:\n",
        "```markdown\n",
        "* Uno\n",
        "* Dos\n",
        "* Tres\n",
        "```\n",
        "* Uno\n",
        "* Dos\n",
        "* Tres\n",
        "\n",
        "Listas numeradas:\n",
        "```markdown\n",
        "1. Uno\n",
        "1. Dos\n",
        "1. Tres\n",
        "```\n",
        "1. Uno\n",
        "1. Dos\n",
        "1. Tres\n"
      ],
      "metadata": {
        "id": "GqC-Orqndsp1"
      }
    },
    {
      "cell_type": "markdown",
      "source": [
        "### <font color='steelblue'>Líneas horizontales</font>"
      ],
      "metadata": {
        "id": "GGNnJAv6eLZr"
      }
    },
    {
      "cell_type": "markdown",
      "source": [
        "```markdown\n",
        "---\n",
        "```\n",
        "\n",
        "---"
      ],
      "metadata": {
        "id": "BZvzCOfmeMTk"
      }
    },
    {
      "cell_type": "markdown",
      "source": [
        "### <font color='steelblue'>Inserción de imágenes</font>"
      ],
      "metadata": {
        "id": "QTzPw5LqVpUK"
      }
    },
    {
      "cell_type": "markdown",
      "source": [
        "Para insertar imágenes tenemos dos opciones:\n",
        "\n",
        "- mediante un enlace de una imagen que esté en la web\n",
        "- usando una imagen almacenada en Google Drive y su identificador de objeto al compartirla."
      ],
      "metadata": {
        "id": "ZZRRWSpRWC3Q"
      }
    },
    {
      "cell_type": "markdown",
      "source": [
        "Insertar una **imagen en la web** con su url pública en internet es similar a añadir un hipervínculo en un documento. Basta con utilizar la sintaxis a continuación:\n",
        "\n",
        "```markdown\n",
        "![texto descriptivo](https://...)\n",
        "\n",
        "# A modo de ejemplo:\n",
        "![Imagen de ADN obtenida de Pixabay](https://cdn.pixabay.com/photo/2013/07/18/10/55/dna-163466_960_720.jpg)\n",
        "```\n",
        "\n",
        "![Imagen de ADN obtenida de Pixabay](https://cdn.pixabay.com/photo/2013/07/18/10/55/dna-163466_960_720.jpg)\n",
        "\n"
      ],
      "metadata": {
        "id": "0V2flwEWWkDt"
      }
    },
    {
      "cell_type": "markdown",
      "source": [
        "Para visualizar una **imagen desde Drive**, primero hay que subirla a nuestro Google Drive. Al pulsar la opción \"Obtener enlace\", y asegurarnos de que cualquier persona con el enlace la pueda ver (lo más habitual si la vamos a publicar desde un cuaderno Colab).\n",
        "\n",
        "<img src=https://raw.githubusercontent.com/ia4legos/Statistics/main/images/img_10_30_10.png>\n",
        "\n",
        "A continuación hemos de copiar su identificador de objeto, que es el código alfanumérico que aparece subrayado a continuación:\n",
        "<img src=https://raw.githubusercontent.com/ia4legos/Statistics/main/images/img_10_30_20.png>\n",
        "\n",
        "Para insertar la imagen, la sintaxis es igual que antes, pero en este caso el link debe tener las siguientes características:\n",
        "\n",
        "* empezará con la dirección 'https://drive.google.com/thumbnail?id='\n",
        "\n",
        "* continuará con su identificador de objeto https://drive.google.com/thumbnail?id=11CZN1oJGApsnWQOH4PnlpqsWt0rOKeZT\n",
        "\n",
        "* y finalizará con '&sz=...', donde en los puntos suspensivos indicamos el tamaño deseado para la imagen. Así, `h50` significará un alto de 50 píxeles, `w800` un ancho de 800 píxeles, y un número cualquiera no iniciado por `h` o `w`, mantendrá las proporciones originales de la imagen. https://drive.google.com/thumbnail?id=11CZN1oJGApsnWQOH4PnlpqsWt0rOKeZT&sz=w800\n",
        "\n",
        "Se muestran a continuación tres ejemplos de inserción de imágenes de Drive:\n",
        "\n",
        "```markdown\n",
        "![12003.jpg](https://drive.google.com/thumbnail?id=1WX10d2u17KQS4jINnbg-Oz12mq3v3djx&sz=h50)\n",
        "\n",
        "![12003.jpg](https://drive.google.com/thumbnail?id=14FTlWu1A6JV9A6WXrM5cmTLfwvNVTtWf&sz=w300)\n",
        "\n",
        "![12003.jpg](https://drive.google.com/thumbnail?id=1WX10d2u17KQS4jINnbg-Oz12mq3v3djx&sz=800)\n",
        "```\n",
        "\n",
        "![12003.jpg](https://drive.google.com/thumbnail?id=1WX10d2u17KQS4jINnbg-Oz12mq3v3djx&sz=h50)\n",
        "\n",
        "![12003.jpg](https://drive.google.com/thumbnail?id=14FTlWu1A6JV9A6WXrM5cmTLfwvNVTtWf&sz=w300)\n",
        "\n",
        "![12003.jpg](https://drive.google.com/thumbnail?id=1WX10d2u17KQS4jINnbg-Oz12mq3v3djx&sz=100)\n",
        "\n"
      ],
      "metadata": {
        "id": "E6_LeXI0Xxu8"
      }
    },
    {
      "cell_type": "markdown",
      "source": [
        "## <font color='steelblue'>5. Celdas de código</font>\n",
        "\n",
        "\n",
        "Veamos a continuación cómo sacar el máximo provecho a las **celdas de código**."
      ],
      "metadata": {
        "id": "Shw_VqD8QsSU"
      }
    },
    {
      "cell_type": "markdown",
      "source": [
        "### <font color='steelblue'>Ejecutar</font>"
      ],
      "metadata": {
        "id": "DctWGBpeQ1Bc"
      }
    },
    {
      "cell_type": "markdown",
      "source": [
        "\n",
        "\n",
        "En primer lugar, una celda de código solo se podrá ejecutar si previamente hemos conectado el entorno de trabajo en red, cuestión que resolvemos pulsando el botón 'Conectar' situado en la parte superior derecha del cuaderno.\n",
        "\n",
        "<img src=https://raw.githubusercontent.com/ia4legos/Statistics/main/images/img_10_50_10.png>\n",
        "\n",
        "\n",
        "Una vez conectado, nos aparecerá algo parecido a esto, que confirma que disponemos de RAM y disco duro para ejecutar nuestro código:\n",
        "\n",
        "<img src=https://raw.githubusercontent.com/ia4legos/Statistics/main/images/img_10_50_20.png>\n",
        "\n",
        "Ya conectado el entorno y creada una celda de código, podemos ejecutarla de distintos modos, clicando en:\n",
        "\n",
        "* el **icono de reproducción**, al lado izquierdo de la celda;\n",
        "* **Cmd + Enter** (en Mac) o **Ctrl + Enter** (en Windows), si el cursor está posicionado sobre la celda;\n",
        "* **Shift + Enter**, que ejecuta la celda seleccionada y además mueve el foco a continuación a la siguiente celda;\n",
        "* **Alt + Enter** que ejecuta la celda seleccionada y crea otra celda de código a continuación.\n",
        "\n",
        "Hay opciones adicionales para ejecutar algunas o todas las celdas en el menú **Entorno de Ejecución / Runtime**.\n",
        "\n"
      ],
      "metadata": {
        "id": "GBqH-Jm5-UtU"
      }
    },
    {
      "cell_type": "code",
      "source": [
        "print(\"Hola, mundo!\")"
      ],
      "metadata": {
        "id": "-VchM8dG9GUE",
        "colab": {
          "base_uri": "https://localhost:8080/"
        },
        "outputId": "7c20dbcf-89b6-4cf4-ef62-ff247bf97c64"
      },
      "execution_count": null,
      "outputs": [
        {
          "output_type": "stream",
          "name": "stdout",
          "text": [
            "Hola, mundo!\n"
          ]
        }
      ]
    },
    {
      "cell_type": "markdown",
      "source": [
        "Prueba tú mismo/a a utilizar estas opciones sobre la siguiente celda de código."
      ],
      "metadata": {
        "id": "fgTCAsE7QoGI"
      }
    },
    {
      "cell_type": "code",
      "source": [
        "#esto es un comentario\n",
        "a=40\n",
        "a"
      ],
      "metadata": {
        "id": "-So_xpe-CMFO",
        "colab": {
          "base_uri": "https://localhost:8080/"
        },
        "outputId": "393f476f-a1a3-4b04-8c40-2434dda2189b"
      },
      "execution_count": null,
      "outputs": [
        {
          "output_type": "execute_result",
          "data": {
            "text/plain": [
              "40"
            ]
          },
          "metadata": {},
          "execution_count": 2
        }
      ]
    }
  ]
}